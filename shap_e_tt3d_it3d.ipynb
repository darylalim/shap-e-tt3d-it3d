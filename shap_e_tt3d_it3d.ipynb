{
 "cells": [
  {
   "cell_type": "markdown",
   "id": "e6830b4d-cd2e-4547-b2ba-7c0192ee941a",
   "metadata": {},
   "source": [
    "# Shape-E Text-to-3D, Image-to-3D, Generate mesh"
   ]
  },
  {
   "cell_type": "markdown",
   "id": "54b6ae0b-6f2f-4451-a6d7-7b9022815d4c",
   "metadata": {},
   "source": [
    "Generate 3D assets with a text prompt or an image."
   ]
  },
  {
   "cell_type": "code",
   "execution_count": null,
   "id": "ff4687ec-c508-4a07-bd02-14f7c7d7d626",
   "metadata": {},
   "outputs": [],
   "source": [
    "# Install required libraries\n",
    "!pip3 install -q diffusers transformers accelerate trimesh gradio"
   ]
  },
  {
   "cell_type": "code",
   "execution_count": null,
   "id": "69f2a116-525a-4d8c-a1c0-2f0a86fd3554",
   "metadata": {},
   "outputs": [],
   "source": [
    "# Import modules\n",
    "# import spaces\n",
    "import gradio as gr\n",
    "import numpy as np\n",
    "import PIL.image\n",
    "import tempfile\n",
    "import torch\n",
    "import trimesh\n",
    "from diffusers import ShapEPipeline, ShapEImg2ImgPipeline\n",
    "from diffusers.utils import export_to_ply"
   ]
  },
  {
   "cell_type": "code",
   "execution_count": null,
   "id": "34ff94d6-7022-4b72-94f8-7d4929f8b975",
   "metadata": {},
   "outputs": [],
   "source": [
    "# Set device\n",
    "device = torch.device(\"cuda\" if torch.cuda.is_available() else \"cpu\")"
   ]
  },
  {
   "cell_type": "code",
   "execution_count": null,
   "id": "b401f931-63e4-4139-aedf-25d4f2a4d7de",
   "metadata": {},
   "outputs": [],
   "source": [
    "print(f\"device: {device}\")"
   ]
  },
  {
   "cell_type": "code",
   "execution_count": null,
   "id": "974fdda5-c34d-41fe-99c6-c9e57edacbf1",
   "metadata": {},
   "outputs": [],
   "source": [
    "# Build text-to-3D pipeline using Diffusers library\n",
    "pipe_text3d = ShapEPipeline.from_pretrained(\n",
    "    \"openai/shap-e\",\n",
    "    torch_dtype=torch.float16,\n",
    "    variant=\"fp16\"\n",
    ")"
   ]
  },
  {
   "cell_type": "code",
   "execution_count": null,
   "id": "d8d87e8d-3a93-4e87-b509-65ecba335b99",
   "metadata": {},
   "outputs": [],
   "source": [
    "# Build image-to-3D pipeline using Diffusers library\n",
    "pipe_image3d = ShapEImg2ImgPipeline.from_pretrained(\n",
    "    \"openai/shap-e\",\n",
    "    torch_dtype=torch.float16,\n",
    "    variant=\"fp16\"\n",
    ")"
   ]
  },
  {
   "cell_type": "code",
   "execution_count": null,
   "id": "9462979a-996e-4169-ac5f-78e40a96d9fe",
   "metadata": {},
   "outputs": [],
   "source": [
    "pipe_text3d = pipe_text3d.to(device)\n",
    "pipe_image3d = pipe_image3d.to(device)"
   ]
  },
  {
   "cell_type": "code",
   "execution_count": null,
   "id": "67bc0650-2eaa-490e-8c29-73d81df17db6",
   "metadata": {},
   "outputs": [],
   "source": [
    "# Define function to convert ply file to glb file\n",
    "def ply_to_glb(ply_path):\n",
    "    mesh = trimesh.load(ply_path)\n",
    "    rot = trimesh.transformations.rotation_matrix(-np.pi / 2, [1, 0, 0])\n",
    "    mesh = mesh.apply_transform(rot)\n",
    "    # rot = trimesh.transformations.rotation_matrix(np.pi, [0, 1, 0])\n",
    "    # mesh = mesh.apply_transform(rot)\n",
    "    mesh_path = tempfile.NamedTemporaryFile(suffix=\".glb\", delete=False)\n",
    "    mesh.export(mesh_path.name, file_type=\"glb\")\n",
    "    \n",
    "    return mesh_path.name"
   ]
  },
  {
   "cell_type": "code",
   "execution_count": null,
   "id": "8b7fe96f-5bcd-430c-bc73-b28798c3639d",
   "metadata": {},
   "outputs": [],
   "source": [
    "# Define function to generate 3D assets with text prompt\n",
    "def text_to_3d(prompt, guidance_scale=15.0, num_steps=64):\n",
    "    \"\"\"\n",
    "    Generate 3D assets with a text prompt.\n",
    "    \"\"\"\n",
    "    images = pipe_text3d(\n",
    "        prompt,\n",
    "        guidance_scale=guidance_scale,\n",
    "        num_inference_steps=num_steps,\n",
    "        # frame_size=256,\n",
    "        output_type=\"mesh\"\n",
    "    ).images\n",
    "    \n",
    "    ply_path = tempfile.NamedTemporaryFile(suffix=\".ply\", delete=False, mode=\"w+b\")\n",
    "    export_to_ply(images[0], ply_path.name)\n",
    "    \n",
    "    return to_glb(ply_path.name)"
   ]
  },
  {
   "cell_type": "code",
   "execution_count": null,
   "id": "fe45fd3c-48c5-46a3-8917-2fb2aadea760",
   "metadata": {},
   "outputs": [],
   "source": [
    "# Define function to generate 3D assets with image\n",
    "def image_to_3d(image, guidance_scale=3.0, num_steps=64):\n",
    "    \"\"\"\n",
    "    Generates 3D assets with an image.\n",
    "    \"\"\"\n",
    "    images = pipe_image3d(\n",
    "        image, \n",
    "        guidance_scale=guidance_scale,\n",
    "        num_inference_steps=num_steps,\n",
    "        # frame_size=256,\n",
    "        output_type=\"mesh\"\n",
    "    ).images\n",
    "    \n",
    "    ply_path = tempfile.NamedTemporaryFile(suffix=\".ply\", delete=False, mode=\"w+b\")\n",
    "    export_to_ply(images[0], ply_path.name)\n",
    "    \n",
    "    return to_glb(ply_path.name)"
   ]
  },
  {
   "cell_type": "code",
   "execution_count": null,
   "id": "a2cda291-43bf-4b45-b412-400926cf9055",
   "metadata": {},
   "outputs": [],
   "source": [
    "# Define Gradio application\n",
    "with gr.Blocks() as demo:\n",
    "    gr.Markdown(\"# Shap-E Text-to-3D & Image-to-3D\")\n",
    "    with gr.Tabs():\n",
    "        with gr.Tab(label=\"Text-to-3D\"):\n",
    "            with gr.Group():\n",
    "                with gr.Row():\n",
    "                    prompt = gr.Text(\n",
    "                        label=\"Prompt\",\n",
    "                        show_label=False,\n",
    "                        max_lines=1,\n",
    "                        placeholder=\"Enter prompt\",\n",
    "                        container=False\n",
    "                    )\n",
    "                    run_button = gr.Button(\n",
    "                        label=\"Run\",\n",
    "                        scale=0\n",
    "                    )\n",
    "                result = gr.Model3D(\n",
    "                    label=\"Result\",\n",
    "                    show_label=False\n",
    "                )\n",
    "            gr.on(\n",
    "                triggers=[prompt.submit, run_button.click],\n",
    "                fn=text_to_3d,\n",
    "                inputs=[\n",
    "                    prompt#,\n",
    "                    # guidance_scale,\n",
    "                    # num_inference_steps\n",
    "                ],\n",
    "                outputs=result,\n",
    "                api_name=\"text-to-3d\",\n",
    "                concurrency_limit=1,\n",
    "                concurrency_id=\"gpu\"\n",
    "            )\n",
    "        with gr.Tab(label=\"Image-to-3D\"):\n",
    "            create_demo_image_to_3d(model)"
   ]
  },
  {
   "cell_type": "code",
   "execution_count": null,
   "id": "b9da9fef-768c-4f66-9ac5-6a9d34e4161b",
   "metadata": {},
   "outputs": [],
   "source": [
    "# Set queue with default settings\n",
    "demo.queue()"
   ]
  },
  {
   "cell_type": "code",
   "execution_count": null,
   "id": "8ef17835-cda7-4879-a3f7-be2c776dae51",
   "metadata": {},
   "outputs": [],
   "source": [
    "# Start Gradio application\n",
    "demo.launch()"
   ]
  },
  {
   "cell_type": "code",
   "execution_count": null,
   "id": "a413fac8-1703-451b-b22d-d659bcd88dc4",
   "metadata": {},
   "outputs": [],
   "source": [
    "# Close Gradio application\n",
    "demo.close()"
   ]
  },
  {
   "cell_type": "code",
   "execution_count": null,
   "id": "efda6a60-9492-40fe-a30f-286bb8b4c11b",
   "metadata": {},
   "outputs": [],
   "source": []
  }
 ],
 "metadata": {
  "kernelspec": {
   "display_name": "Python 3 (ipykernel)",
   "language": "python",
   "name": "python3"
  },
  "language_info": {
   "codemirror_mode": {
    "name": "ipython",
    "version": 3
   },
   "file_extension": ".py",
   "mimetype": "text/x-python",
   "name": "python",
   "nbconvert_exporter": "python",
   "pygments_lexer": "ipython3",
   "version": "3.12.2"
  }
 },
 "nbformat": 4,
 "nbformat_minor": 5
}
